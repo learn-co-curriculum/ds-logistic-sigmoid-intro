{
 "cells": [
  {
   "cell_type": "code",
   "execution_count": 1,
   "metadata": {},
   "outputs": [],
   "source": [
    "import numpy as np\n",
    "import matplotlib.pyplot as plt\n",
    "%matplotlib inline"
   ]
  },
  {
   "cell_type": "markdown",
   "metadata": {},
   "source": [
    "# Logistic Regression\n",
    "\n",
    "Logistic regression provides us with a convenient way to take all of our ideas from linear regression and apply them to classification. With logistic regression, we will be attempting to predict binary classification of 0 or 1. To do this, we will use logistic regression to estimating the probability of cases falling into one group or another. The main mechanism underlying this is the useful 'S shaped', sigmoid function.\n",
    "\n",
    "$S(x) = \\frac{1}{1+e^{-x}}$"
   ]
  },
  {
   "cell_type": "code",
   "execution_count": 2,
   "metadata": {},
   "outputs": [
    {
     "data": {
      "text/plain": [
       "<matplotlib.collections.PathCollection at 0x11a532710>"
      ]
     },
     "execution_count": 2,
     "metadata": {},
     "output_type": "execute_result"
    },
    {
     "data": {
      "image/png": "[encoded data removed]",
      "text/plain": [
       "<Figure size 432x288 with 1 Axes>"
      ]
     },
     "metadata": {},
     "output_type": "display_data"
    }
   ],
   "source": [
    "#Plot the sigmoid function\n",
    "x = np.linspace(start = -10, stop = 10, num=10**5+1)\n",
    "y = 1/(1+np.e**-x)\n",
    "\n",
    "plt.scatter(x,y)"
   ]
  },
  {
   "cell_type": "markdown",
   "metadata": {},
   "source": [
    "As you can see, this is a useful function for taking a variable and mapping it to a set range of 0 and 1. In turn, we will use these output values as probabilities for class membership. With that, we can then set a cutoff such as 0.5. Outputs below that will be given one label, such has 'not a member', while outputs at or above the threshold will be given the converse label such as 'is a member'.\n",
    "\n",
    "With that, let's look at logistic regression from a practitioner's standpoint."
   ]
  }
 ],
 "metadata": {
  "kernelspec": {
   "display_name": "Python 3",
   "language": "python",
   "name": "python3"
  },
  "language_info": {
   "codemirror_mode": {
    "name": "ipython",
    "version": 3
   },
   "file_extension": ".py",
   "mimetype": "text/x-python",
   "name": "python",
   "nbconvert_exporter": "python",
   "pygments_lexer": "ipython3",
   "version": "3.6.5"
  }
 },
 "nbformat": 4,
 "nbformat_minor": 2
}
